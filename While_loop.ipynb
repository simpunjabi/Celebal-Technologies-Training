{
  "nbformat": 4,
  "nbformat_minor": 0,
  "metadata": {
    "colab": {
      "name": "While loop.ipynb",
      "provenance": [],
      "collapsed_sections": []
    },
    "kernelspec": {
      "name": "python3",
      "display_name": "Python 3"
    },
    "language_info": {
      "name": "python"
    }
  },
  "cells": [
    {
      "cell_type": "code",
      "source": [
        "i=1 \n",
        "while i>=5:\n",
        "\tprint (\"Simran, Age=20\")\n",
        "i=i+1\n",
        " "
      ],
      "metadata": {
        "id": "JHGTyGMbUzqR"
      },
      "execution_count": 32,
      "outputs": []
    }
  ]
}