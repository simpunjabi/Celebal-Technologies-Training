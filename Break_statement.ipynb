{
  "nbformat": 4,
  "nbformat_minor": 0,
  "metadata": {
    "colab": {
      "name": "Break statement.ipynb",
      "provenance": []
    },
    "kernelspec": {
      "name": "python3",
      "display_name": "Python 3"
    },
    "language_info": {
      "name": "python"
    }
  },
  "cells": [
    {
      "cell_type": "code",
      "execution_count": 1,
      "metadata": {
        "colab": {
          "base_uri": "https://localhost:8080/"
        },
        "id": "92b4Ue1nig-7",
        "outputId": "c1dd95cd-1ecc-409c-86de-192fe3ed6536"
      },
      "outputs": [
        {
          "output_type": "stream",
          "name": "stdout",
          "text": [
            "Candy\n",
            "Candy\n",
            "Candy\n",
            "Candy\n",
            "Candy\n",
            "Out of stock\n",
            "bye\n"
          ]
        }
      ],
      "source": [
        "av=5\n",
        "i=1\n",
        "while i<=av:\n",
        " print(\"Candy\")\n",
        " i=i++1\n",
        "if i>=av:\n",
        " print(\"Out of stock\")\n",
        "'break'\n",
        "print(\"bye\")  \n"
      ]
    }
  ]
}